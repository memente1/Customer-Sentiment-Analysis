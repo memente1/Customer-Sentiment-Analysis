{
 "cells": [
  {
   "cell_type": "markdown",
   "id": "85b0df91",
   "metadata": {},
   "source": [
    "  <center><h1 style=\" color: blue; line-height: 1.5; font-size:25;\"> Analyzing Customer Sentiment and Identifying Key Themes in E-Commerce Reviews: A Comprehensive Study </h1></center>"
   ]
  },
  {
   "cell_type": "markdown",
   "id": "0d61b4d9-ab6c-4947-ba5e-457a6841743b",
   "metadata": {
    "jp-MarkdownHeadingCollapsed": true
   },
   "source": [
    "\n"
   ]
  },
  {
   "cell_type": "markdown",
   "id": "beab6d8f-3efc-400b-af6a-403c777671a8",
   "metadata": {},
   "source": [
    "# Table of Contents\n",
    "\n",
    "1. [Abstract](#abstract)\n",
    "2. [Context](#context)\n",
    "3. [Objective](#objective)\n",
    "4. [Assumptions](#assumptions)\n",
    "   - [Assumption 1](#assumption1)\n",
    "   - [Rationale about the first assumption](#rationale1)\n",
    "   - [Assumption 2](#assumption2)\n",
    "   - [Rationale about the second assumption](#rationale2)\n",
    "5. [Research Questions (RQ)](#research-questions)\n",
    "   - [RQ1](#rq1)\n",
    "   - [RQ2](#rq2)\n",
    "6. [Metadata](#metadata)\n",
    "7. [Sentiment Analysis Execution Plan](#execution-plan)\n",
    "   - [Data Loading](#data-loading)\n",
    "   - [Data Preprocessing](#data-preprocessing)\n",
    "     - [Tokenize and Lemmatize](#tokenize-lemmatize)\n",
    "   - [Sentiment Analysis](#sentiment-analysis)\n",
    "     - [Determine Sentiment Polarity](#determine-polarity)\n",
    "     - [Classify Reviews](#classify-reviews)\n",
    "8. [Analysis and Visualization](#analysis-visualization)\n",
    "   - [Analyze Distribution](#analyze-distribution)\n",
    "   - [Visualize Distribution](#visualize-distribution)\n",
    "   - [Understanding Neutral Reviews](#neutral-reviews)\n",
    "9. [Predictive Modeling](#predictive-modeling)\n",
    "   - [Sentiment Prediction](#sentiment-prediction)\n",
    "10. [Conclusion](#conclusion)\n",
    "\n"
   ]
  },
  {
   "cell_type": "markdown",
   "id": "e26572a4-eb26-4746-9260-de81b58ba713",
   "metadata": {},
   "source": [
    "<a id=\"abstract\"></a>\n",
    "# Abstract\n",
    "\n",
    "><p style=\"line-height: 1.5; font-size: 18px;\"> In the highly competitive e-commerce industry, customer feedback plays a crucial role in enhancing product offerings, improving services, and driving business success. This study aims to analyze customer reviews across various product categories on an e-commerce platform to understand customer sentiment and identify key themes. By leveraging advanced text analysis techniques, the study examines sentiment trends and explores the factors influencing customer satisfaction.</p>  \n",
    "\n",
    "><p style=\"line-height: 1.5; font-size: 18px;\"> The dataset comprises 175 customer reviews, including demographic information and purchase details. Two key assumptions guide the analysis: sentiment consistency across demographic segments and a positive correlation between detailed reviews and higher ratings. The study addresses research questions concerning overall sentiment trends, key themes, and the influence of product attributes and review characteristics on customer sentiment.</p>\n",
    "\n",
    "><p style=\"line-height: 1.5; font-size: 18px;\"> Findings reveal that customer satisfaction is generally high, with most reviews being positive. Key themes driving positive sentiment include product quality, efficient shipping, and excellent customer service. Neutral reviews suggest areas for enhancement, such as improving product quality and delivery efficiency. Sentiment distribution analysis across product categories and demographic segments provides insights into specific areas needing attention.</p>\n",
    "\n",
    "><p style=\"line-height: 1.5; font-size: 18px;\"> Overall, the study highlights the importance of understanding customer feedback to improve the e-commerce platform's offerings and enhance customer satisfaction. By addressing neutral and negative feedback, the platform can further elevate the customer experience and drive business success.</p>\n"
   ]
  },
  {
   "cell_type": "markdown",
   "id": "5b9d91f4",
   "metadata": {
    "jp-MarkdownHeadingCollapsed": true
   },
   "source": [
    "<a id=\"Context\"></a>\n",
    "# Context\n",
    "\n",
    "><p style=\"line-height: 1.5; font-size: 18px;\">\n",
    "In the highly competitive e-commerce industry, understanding customer feedback is crucial for improving products and services, enhancing customer satisfaction, and ultimately driving business success. Customer reviews provide a rich source of unstructured data that can reveal valuable insights into customer experiences, preferences, and areas for improvement. This study aims to leverage advanced text analysis techniques to analyze customer reviews across various product categories, identify sentiment trends, and uncover key themes that influence customer satisfaction.</p>"
   ]
  },
  {
   "cell_type": "markdown",
   "id": "b6b6d47f",
   "metadata": {},
   "source": [
    "<a id=\"objective\"></a>\n",
    "# Objective\n",
    "\n",
    "><p style=\"line-height: 1.5; font-size: 18px;\">\n",
    ">This study aims to analyze customer reviews across various product categories on an e-commerce platform to understand customer sentiment and identify key themes, providing actionable insights for improving customer satisfaction and product offerings.</p>"
   ]
  },
  {
   "cell_type": "markdown",
   "id": "9f881ca4",
   "metadata": {
    "jp-MarkdownHeadingCollapsed": true
   },
   "source": [
    "<a id=\"assumptions\"></a> \n",
    "# Assumptions\n",
    "\n",
    "><p style=\"line-height: 1.5; font-size: 18px;\"> - Assumption 1: The sentiment expressed in customer reviews is consistent across different demographic segments such as age, location, and gender.</p>\n",
    "><p style=\"line-height: 1.5; font-size: 18px;\">- Rationale about the first assumption: This assumption posits that customer satisfaction and dissatisfaction are primarily influenced by product attributes and not significantly by demographic factors. By testing this assumption, we can determine if targeted interventions are necessary for specific demographic groups or if product improvements will universally enhance customer satisfaction.</p>\n",
    "><p style=\"line-height: 1.5; font-size: 18px;\"> - Assumption 2: Reviews with higher product ratings and longer, more detailed text are more likely to express positive sentiment.</p>\n",
    "><p style=\"line-height: 1.5; font-size: 18px;\">- Rationale about the second Assumption: This assumption suggests that satisfied customers are more inclined to provide higher ratings and write more detailed reviews, whereas dissatisfied customers may give lower ratings and shorter feedback. Verifying this assumption can help understand the relationship between review characteristics and customer satisfaction, guiding strategies for encouraging detailed feedback from customers.</p>"
   ]
  },
  {
   "cell_type": "markdown",
   "id": "59c6274a",
   "metadata": {},
   "source": [
    "<a id=\"research-questions\"></a>\n",
    "# Research Questions (RQ)\n",
    "<a id=\"rq1\"></a>\n",
    "## RQ1\n",
    "><p style=\"line-height: 1.5; font-size: 18px;\"> What are the overall sentiment trends and key themes present in customer reviews across different product categories and demographic segments on the e-commerce platform? </p>\n",
    "\n",
    "><p style=\"line-height: 1.5; font-size: 18px;\"> This question encompasses understanding the general sentiment (positive, neutral, negative) of customer reviews, identifying common themes and topics, and analyzing how these vary across product categories (Electronics, Clothing, Books, Home & Kitchen, Sports) and demographic factors such as age, location, and gender. It also includes examining seasonal or temporal trends in customer reviews and sentiment.</p>\n",
    "## RQ2\n",
    "><p style=\"line-height: 1.5; font-size: 18px;\"> How do product attributes, review characteristics, and purchase behaviors influence customer sentiment and satisfaction?</p>\n",
    "\n",
    "><p style=\"line-height: 1.5; font-size: 18px;\"> This question addresses the relationship between product ratings and review sentiment, the impact of purchase amounts on sentiment, and the specific aspects of products frequently mentioned in positive and negative reviews. It also explores the correlation between review length and sentiment, providing insights into how detailed feedback relates to overall customer satisfaction.</p>"
   ]
  },
  {
   "cell_type": "markdown",
   "id": "59db8202",
   "metadata": {},
   "source": [
    "# Metadata\n"
   ]
  },
  {
   "cell_type": "markdown",
   "id": "b33202f3",
   "metadata": {},
   "source": [
    "><p style=\"line-height: 1.5; font-size: 18px;\"> This dataset contains customer reviews collected from an e-commerce platform. Each row in the dataset represents a single review and includes various attributes related to the customer, the review, and the purchase. The dataset for this study comprises 175 customer reviews collected from an e-commerce platform. These reviews span multiple product categories, including Electronics, Clothing, Books, Home & Kitchen, and Sports. Each review is accompanied by demographic information such as customer age, location, and gender, as well as purchase details like purchase amount, date, and product rating. Below is the data description. </p>\n",
    "\n",
    "#### review_id\n",
    "><p style=\"line-height: 1.5; font-size: 18px;\">- Description: Unique identifier for each review., -- Type: Integer\n",
    "\n",
    "#### review_text\n",
    "><p style=\"line-height: 1.5; font-size: 18px;\">- Description: The text content of the customer's review. --  Type: String\n",
    "\n",
    "#### customer_age\n",
    "><p style=\"line-height: 1.5; font-size: 18px;\">- Description: Age of the customer who wrote the review.-- Type: Integer\n",
    "\n",
    "#### customer_location\n",
    "><p style=\"line-height: 1.5; font-size: 18px;\">- Description: Location of the customer (e.g., city or state). -- Type: String\n",
    "\n",
    "#### customer_gender\n",
    "><p style=\"line-height: 1.5; font-size: 18px;\">- Description: Gender of the customer (Male or Female). --  Type: String\n",
    "\n",
    "#### purchase_amount\n",
    "><p style=\"line-height: 1.5; font-size: 18px;\">- Description: The amount spent by the customer on the purchase. -- Type: Float\n",
    "\n",
    "#### purchase_date\n",
    "><p style=\"line-height: 1.5; font-size: 18px;\">- Description: The date on which the purchase was made. -- Type: DateTime\n",
    "\n",
    "#### rating\n",
    "><p style=\"line-height: 1.5; font-size: 18px;\">- Description: The product rating given by the customer (1 to 5 stars). -- Type: Integer\n",
    "\n",
    "#### category\n",
    "><p style=\"line-height: 1.5; font-size: 18px;\">- Description: The category of the product (e.g., Electronics, Clothing, Books, Home & Kitchen, Sports). -- Type: String\n",
    "\n",
    "#### review_length\n",
    "><p style=\"line-height: 1.5; font-size: 18px;\">- Description: The number of words in the review text. -- Type: Integer\n",
    "\n",
    "#### sentiment\n",
    "><p style=\"line-height: 1.5; font-size: 18px;\">- Description: The sentiment of the review (positive, neutral, negative). -- Type: String"
   ]
  },
  {
   "cell_type": "markdown",
   "id": "a350cbb6",
   "metadata": {},
   "source": [
    "<a id=\"execution-plan\"></a>\n",
    "# Sentiment Analysis Execution Plan\n",
    "  \n",
    "><p style=\"line-height: 1.5; font-size: 18px;\"> For the Sentiment Analysis Execution Plan\n",
    "in this analysis, we want to determine the sentiment of each customer review (positive, neutral, negative) and analyze how sentiment varies across different product categories and demographic segments.</p>"
   ]
  },
  {
   "cell_type": "markdown",
   "id": "fb2df340",
   "metadata": {},
   "source": [
    "### Steps:\n",
    "><p style=\"line-height: 1.5; font-size: 18px;\">\n",
    "><p style=\"line-height: 1.5; font-size: 18px;\">- Data Loading: Load the dataset from customer_reviews.csv.\n",
    "><p style=\"line-height: 1.5; font-size: 18px;\">  - Data Preprocessing: Clean and preprocess the review text.\n",
    "><p style=\"line-height: 1.5; font-size: 18px;\">  - Tokenize the text, convert to lowercase, remove stop words, and lemmatize the words.\n",
    "><p style=\"line-height: 1.5; font-size: 18px;\">- Sentiment Analysis:\n",
    "><p style=\"line-height: 1.5; font-size: 18px;\">  - Use a pre-trained sentiment analysis model (e.g., TextBlob) to determine the sentiment polarity of each review.\n",
    "><p style=\"line-height: 1.5; font-size: 18px;\">  - Classify reviews into sentiment categories based on polarity scores.\n",
    "><p style=\"line-height: 1.5; font-size: 18px;\">- Analysis and Visualization:\n",
    "><p style=\"line-height: 1.5; font-size: 18px;\">  - Analyze the distribution of sentiment across product categories and demographic segments.\n",
    "><p style=\"line-height: 1.5; font-size: 18px;\">  - Visualize the sentiment distribution using appropriate plots.</p>"
   ]
  },
  {
   "cell_type": "markdown",
   "id": "816ede5e",
   "metadata": {},
   "source": [
    "#### Step 1: Data Loading"
   ]
  },
  {
   "cell_type": "code",
   "execution_count": 3,
   "id": "e56a239b",
   "metadata": {},
   "outputs": [
    {
     "data": {
      "text/html": [
       "<div>\n",
       "<style scoped>\n",
       "    .dataframe tbody tr th:only-of-type {\n",
       "        vertical-align: middle;\n",
       "    }\n",
       "\n",
       "    .dataframe tbody tr th {\n",
       "        vertical-align: top;\n",
       "    }\n",
       "\n",
       "    .dataframe thead th {\n",
       "        text-align: right;\n",
       "    }\n",
       "</style>\n",
       "<table border=\"1\" class=\"dataframe\">\n",
       "  <thead>\n",
       "    <tr style=\"text-align: right;\">\n",
       "      <th></th>\n",
       "      <th>review_id</th>\n",
       "      <th>review_text</th>\n",
       "      <th>customer_age</th>\n",
       "      <th>customer_location</th>\n",
       "      <th>customer_gender</th>\n",
       "      <th>purchase_amount</th>\n",
       "      <th>purchase_date</th>\n",
       "      <th>rating</th>\n",
       "      <th>category</th>\n",
       "      <th>review_length</th>\n",
       "      <th>sentiment</th>\n",
       "    </tr>\n",
       "  </thead>\n",
       "  <tbody>\n",
       "    <tr>\n",
       "      <th>0</th>\n",
       "      <td>1</td>\n",
       "      <td>Good value for money. Will purchase again.</td>\n",
       "      <td>18</td>\n",
       "      <td>Chicago</td>\n",
       "      <td>Male</td>\n",
       "      <td>152.07</td>\n",
       "      <td>1/1/2023</td>\n",
       "      <td>4</td>\n",
       "      <td>Sports</td>\n",
       "      <td>7</td>\n",
       "      <td>negative</td>\n",
       "    </tr>\n",
       "    <tr>\n",
       "      <th>1</th>\n",
       "      <td>2</td>\n",
       "      <td>Great product! Very satisfied with the quality.</td>\n",
       "      <td>18</td>\n",
       "      <td>Phoenix</td>\n",
       "      <td>Female</td>\n",
       "      <td>225.76</td>\n",
       "      <td>1/2/2023</td>\n",
       "      <td>1</td>\n",
       "      <td>Books</td>\n",
       "      <td>5</td>\n",
       "      <td>positive</td>\n",
       "    </tr>\n",
       "    <tr>\n",
       "      <th>2</th>\n",
       "      <td>3</td>\n",
       "      <td>Great product! Very satisfied with the quality.</td>\n",
       "      <td>36</td>\n",
       "      <td>Phoenix</td>\n",
       "      <td>Female</td>\n",
       "      <td>349.04</td>\n",
       "      <td>1/3/2023</td>\n",
       "      <td>5</td>\n",
       "      <td>Books</td>\n",
       "      <td>8</td>\n",
       "      <td>positive</td>\n",
       "    </tr>\n",
       "  </tbody>\n",
       "</table>\n",
       "</div>"
      ],
      "text/plain": [
       "   review_id                                      review_text  customer_age  \\\n",
       "0          1       Good value for money. Will purchase again.            18   \n",
       "1          2  Great product! Very satisfied with the quality.            18   \n",
       "2          3  Great product! Very satisfied with the quality.            36   \n",
       "\n",
       "  customer_location customer_gender  purchase_amount purchase_date  rating  \\\n",
       "0           Chicago            Male           152.07      1/1/2023       4   \n",
       "1           Phoenix          Female           225.76      1/2/2023       1   \n",
       "2           Phoenix          Female           349.04      1/3/2023       5   \n",
       "\n",
       "  category  review_length sentiment  \n",
       "0   Sports              7  negative  \n",
       "1    Books              5  positive  \n",
       "2    Books              8  positive  "
      ]
     },
     "execution_count": 3,
     "metadata": {},
     "output_type": "execute_result"
    }
   ],
   "source": [
    "import pandas as pd\n",
    "\n",
    "import pandas as pd\n",
    "\n",
    "# Load the dataset from the specified path\n",
    "file_path = r'C:\\Users\\Owner\\OneDrive\\Desktop\\customer_reviews\\customer_reviews.csv'\n",
    "df = pd.read_csv(file_path)\n",
    "\n",
    "df.head(3)"
   ]
  },
  {
   "cell_type": "markdown",
   "id": "38ffa8f5",
   "metadata": {},
   "source": [
    "#### Step 2: Data Preprocessing"
   ]
  },
  {
   "cell_type": "code",
   "execution_count": null,
   "id": "941d2b66",
   "metadata": {},
   "outputs": [],
   "source": [
    "\n",
    "import nltk\n",
    "from nltk.corpus import stopwords\n",
    "from nltk.tokenize import word_tokenize\n",
    "from nltk.stem import WordNetLemmatizer\n",
    "\n",
    "nltk.download('punkt')\n",
    "nltk.download('stopwords')\n",
    "nltk.download('wordnet')\n",
    "\n",
    "stop_words = set(stopwords.words('english'))\n",
    "lemmatizer = WordNetLemmatizer()\n",
    "\n",
    "def preprocess_text(text):\n",
    "    tokens = word_tokenize(text)\n",
    "    tokens = [word.lower() for word in tokens if word.isalpha()]\n",
    "    tokens = [word for word in tokens if word not in stop_words]\n",
    "    tokens = [lemmatizer.lemmatize(word) for word in tokens]\n",
    "    return ' '.join(tokens)\n",
    "\n",
    "df['cleaned_review'] = df['review_text'].apply(preprocess_text)"
   ]
  },
  {
   "cell_type": "markdown",
   "id": "8a01d095",
   "metadata": {},
   "source": [
    "#### Step 3: Sentiment Analysis"
   ]
  },
  {
   "cell_type": "code",
   "execution_count": null,
   "id": "c2181d81",
   "metadata": {},
   "outputs": [],
   "source": [
    "import nltk\n",
    "nltk.download('punkt')\n",
    "nltk.download('averaged_perceptron_tagger')\n",
    "nltk.download('wordnet')\n"
   ]
  },
  {
   "cell_type": "code",
   "execution_count": 6,
   "id": "e8ae7650",
   "metadata": {},
   "outputs": [],
   "source": [
    "from textblob import TextBlob\n",
    "\n",
    "def get_sentiment(text):\n",
    "    blob = TextBlob(text)\n",
    "    return blob.sentiment.polarity\n",
    "\n",
    "df['sentiment_score'] = df['cleaned_review'].apply(get_sentiment)\n",
    "df['sentiment_category'] = pd.cut(df['sentiment_score'], bins=[-1, -0.1, 0.1, 1], labels=['negative', 'neutral', 'positive'])\n"
   ]
  },
  {
   "cell_type": "markdown",
   "id": "0100588b",
   "metadata": {},
   "source": [
    "#### Step 4: Analysis and Visualization"
   ]
  },
  {
   "cell_type": "code",
   "execution_count": 7,
   "id": "e1986096",
   "metadata": {},
   "outputs": [
    {
     "data": {
      "image/png": "[encoded data removed]",
      "text/plain": [
       "<Figure size 1000x600 with 1 Axes>"
      ]
     },
     "metadata": {},
     "output_type": "display_data"
    }
   ],
   "source": [
    "import matplotlib.pyplot as plt\n",
    "import seaborn as sns\n",
    "\n",
    "# Sentiment distribution\n",
    "plt.figure(figsize=(10, 6))\n",
    "sns.countplot(x='sentiment_category', data=df)\n",
    "plt.title('Sentiment Distribution')\n",
    "plt.xlabel('Sentiment')\n",
    "plt.ylabel('Count')\n",
    "plt.show()"
   ]
  },
  {
   "cell_type": "markdown",
   "id": "e44705ab",
   "metadata": {},
   "source": [
    "><p style=\"line-height: 1.5; font-size: 18px;\"> The graph shows the distribution of customer sentiments across three categories: negative, neutral, and positive.</p>\n",
    "\n",
    "### Interpretation:\n",
    "><p style=\"line-height: 1.5; font-size: 18px;\">- High Customer Satisfaction\n",
    "\n",
    "><p style=\"line-height: 1.5; font-size: 18px;\">The majority of reviews being positive indicates that customers generally have a favorable opinion of the products or services offered. This is a strong indicator of customer satisfaction.\n",
    "\n",
    "><p style=\"line-height: 1.5; font-size: 18px;\">- Room for Improvement:\n",
    "\n",
    "><p style=\"line-height: 1.5; font-size: 18px;\">The presence of a significant number of neutral reviews suggests there are areas where the customer experience could be enhanced to convert these neutral experiences into positive ones. Focusing on these areas might help improve overall customer satisfaction.\n",
    "\n",
    "><p style=\"line-height: 1.5; font-size: 18px;\">- Addressing Negative Feedback:\n",
    "\n",
    "><p style=\"line-height: 1.5; font-size: 18px;\">While the number of negative reviews is smaller, it is still important to address the concerns raised by these customers. Identifying common issues in negative reviews can help the company make necessary improvements to reduce future negative feedback.\n",
    "\n",
    "><p style=\"line-height: 1.5; font-size: 18px;\">The next step is to identify specific aspects that customers praise. These could be related to product quality, customer service, delivery speed, etc. Understanding what works well can help reinforce these strengths.</p>"
   ]
  },
  {
   "cell_type": "markdown",
   "id": "95ecb68f",
   "metadata": {},
   "source": [
    "#### Filter Positive Reviews"
   ]
  },
  {
   "cell_type": "code",
   "execution_count": 8,
   "id": "deb6d85d",
   "metadata": {},
   "outputs": [],
   "source": [
    "# Filter positive reviews\n",
    "positive_reviews = df[df['sentiment_category'] == 'positive']"
   ]
  },
  {
   "cell_type": "code",
   "execution_count": null,
   "id": "fee9908b",
   "metadata": {},
   "outputs": [],
   "source": [
    "## Preprocess Text Data\n",
    "# Reuse the preprocess_text function from earlier for consistency\n",
    "positive_reviews['cleaned_review'] = positive_reviews['review_text'].apply(preprocess_text)## Preprocess Text Data\n",
    "# Reuse the preprocess_text function from earlier for consistency\n",
    "positive_reviews['cleaned_review'] = positive_reviews['review_text'].apply(preprocess_text)"
   ]
  },
  {
   "cell_type": "code",
   "execution_count": 10,
   "id": "7eb0ffed",
   "metadata": {},
   "outputs": [
    {
     "name": "stdout",
     "output_type": "stream",
     "text": [
      "[('quality', 28), ('product', 23), ('shipping', 21), ('recommend', 19), ('great', 15), ('amazing', 13), ('experience', 13), ('exceeded', 13), ('expectation', 13), ('excellent', 13), ('fast', 13), ('highly', 13), ('fantastic', 11), ('exactly', 11), ('needed', 11), ('mediocre', 10), ('best', 10), ('better', 10), ('option', 10), ('available', 10)]\n",
      "                  bigram  frequency\n",
      "10   experience exceeded         13\n",
      "8   exceeded expectation         13\n",
      "16      highly recommend         13\n",
      "29          quality fast         13\n",
      "12         fast shipping         13\n",
      "9      excellent quality         13\n",
      "1     amazing experience         13\n",
      "33       shipping highly         13\n",
      "7         exactly needed         11\n",
      "11     fantastic exactly         11\n",
      "20         mediocre best         10\n",
      "3          better option         10\n",
      "2            best better         10\n",
      "22      option available         10\n",
      "32     satisfied quality          9\n",
      "35       support helpful          9\n",
      "31        resolved issue          9\n",
      "28     product satisfied          9\n",
      "21        money purchase          9\n",
      "0        absolutely love          9\n"
     ]
    }
   ],
   "source": [
    "from collections import Counter\n",
    "from sklearn.feature_extraction.text import CountVectorizer\n",
    "\n",
    "# Create a list of all words in positive reviews\n",
    "all_words = ' '.join(positive_reviews['cleaned_review']).split()\n",
    "\n",
    "# Count word frequencies\n",
    "word_freq = Counter(all_words)\n",
    "\n",
    "# Display the most common words\n",
    "print(word_freq.most_common(20))\n",
    "\n",
    "# Use CountVectorizer to analyze bigrams (two-word combinations)\n",
    "vectorizer = CountVectorizer(ngram_range=(2, 2), stop_words='english')\n",
    "X = vectorizer.fit_transform(positive_reviews['cleaned_review'])\n",
    "bigrams = vectorizer.get_feature_names()\n",
    "bigram_freq = X.sum(axis=0).A1\n",
    "\n",
    "# Create a DataFrame of bigrams and their frequencies\n",
    "bigram_df = pd.DataFrame({'bigram': bigrams, 'frequency': bigram_freq})\n",
    "bigram_df = bigram_df.sort_values(by='frequency', ascending=False)\n",
    "\n",
    "# Display the most common bigrams\n",
    "print(bigram_df.head(20))\n",
    "\n"
   ]
  },
  {
   "cell_type": "markdown",
   "id": "0f52b9b4",
   "metadata": {},
   "source": [
    "><p style=\"line-height: 1.5; font-size: 18px;\">The analysis of the most common words and bigrams in positive reviews highlights several key aspects that customers frequently praise. The top words include \"quality,\" \"product,\" \"shipping,\" \"recommend,\" and \"great,\" indicating that customers highly value the quality of the products and the efficiency of the shipping process. Phrases such as \"experience exceeded,\" \"exceeded expectation,\" \"highly recommend,\" \"fast shipping,\" and \"excellent quality\" emphasize that customers are often impressed by the overall experience, the superior quality of the products, and the speed of shipping.</p>\n",
    "\n",
    "><p style=\"line-height: 1.5; font-size: 18px;\"> Additionally, the recurring mention of \"highly recommend\" suggests strong customer satisfaction and advocacy. Phrases like \"amazing experience\" and \"exactly needed\" further underline the positive experiences customers have, while mentions of \"mediocre best,\" \"better option,\" and \"option available\" may suggest some customers still see room for improvement despite generally positive feedback. </p>\n",
    "\n",
    "><p style=\"line-height: 1.5; font-size: 18px;\">Overall, the results indicate that product quality, shipping efficiency, and overall customer experience are critical factors driving positive sentiment among customers.</p>"
   ]
  },
  {
   "cell_type": "markdown",
   "id": "a9662332",
   "metadata": {},
   "source": [
    "<left><h1 style=\"color:blue; font-size:10;\"> Understanding Neutral Reviews </h1></left>  \n",
    "\n",
    "><p style=\"line-height: 1.5; font-size: 18px;\"> To examine neutral reviews and understand why customers felt their experience was just average, we need to perform a similar analysis as with positive reviews. This involves filtering the neutral reviews, preprocessing the text, and extracting common themes and keywords to identify recurring issues or areas that are lacking. </p>"
   ]
  },
  {
   "cell_type": "code",
   "execution_count": 22,
   "id": "b73689e8",
   "metadata": {},
   "outputs": [],
   "source": [
    "# Filter neutral reviews\n",
    "neutral_reviews = df[df['sentiment_category'] == 'neutral']"
   ]
  },
  {
   "cell_type": "code",
   "execution_count": null,
   "id": "71756a54",
   "metadata": {},
   "outputs": [],
   "source": [
    "# Reuse the preprocess_text function from earlier for consistency\n",
    "neutral_reviews['cleaned_review'] = neutral_reviews['review_text'].apply(preprocess_text)\n"
   ]
  },
  {
   "cell_type": "code",
   "execution_count": 27,
   "id": "2f8f0d6d",
   "metadata": {},
   "outputs": [
    {
     "name": "stdout",
     "output_type": "stream",
     "text": [
      "[('product', 36), ('delivery', 15), ('exceeded', 11), ('expectation', 11), ('every', 11), ('way', 11), ('arrived', 10), ('damaged', 10), ('return', 10), ('process', 10), ('hassle', 10), ('okay', 8), ('slow', 8), ('fast', 7), ('average', 7), ('worth', 7), ('price', 7), ('poor', 7), ('build', 7), ('quality', 7)]\n",
      "                  bigram  frequency\n",
      "5   exceeded expectation         11\n",
      "6        expectation way         11\n",
      "14      product exceeded         11\n",
      "0        arrived damaged         10\n",
      "12       product arrived         10\n",
      "2         damaged return         10\n",
      "16        return process         10\n",
      "11        process hassle         10\n",
      "4          delivery slow          8\n",
      "15          product okay          8\n",
      "8          okay delivery          8\n",
      "13       product average          7\n",
      "9             poor build          7\n",
      "10            price poor          7\n",
      "1          build quality          7\n",
      "7          fast delivery          7\n",
      "3       delivery product          7\n",
      "17           worth price          7\n"
     ]
    }
   ],
   "source": [
    "from collections import Counter\n",
    "from sklearn.feature_extraction.text import CountVectorizer\n",
    "\n",
    "# Create a list of all words in neutral reviews\n",
    "all_words_neutral = ' '.join(neutral_reviews['cleaned_review']).split()\n",
    "\n",
    "# Count word frequencies\n",
    "word_freq_neutral = Counter(all_words_neutral)\n",
    "\n",
    "# Display the most common words\n",
    "print(word_freq_neutral.most_common(20))\n",
    "\n",
    "# Use CountVectorizer to analyze bigrams (two-word combinations)\n",
    "vectorizer_neutral = CountVectorizer(ngram_range=(2, 2), stop_words='english')\n",
    "X_neutral = vectorizer_neutral.fit_transform(neutral_reviews['cleaned_review'])\n",
    "bigrams_neutral = vectorizer_neutral.get_feature_names()\n",
    "bigram_freq_neutral = X_neutral.sum(axis=0).A1\n",
    "\n",
    "# Create a DataFrame of bigrams and their frequencies\n",
    "bigram_df_neutral = pd.DataFrame({'bigram': bigrams_neutral, 'frequency': bigram_freq_neutral})\n",
    "bigram_df_neutral = bigram_df_neutral.sort_values(by='frequency', ascending=False)\n",
    "\n",
    "# Display the most common bigrams\n",
    "print(bigram_df_neutral.head(20))\n",
    "\n"
   ]
  },
  {
   "cell_type": "markdown",
   "id": "fe47f2fa",
   "metadata": {},
   "source": [
    "><p style=\"line-height: 1.5; font-size: 18px;\"> The analysis of neutral reviews reveals that customers often mention aspects related to the \"product\" and \"delivery,\" with \"product\" being the most frequently mentioned word. The terms \"delivery\" and \"okay\" appear multiple times, indicating that while some customers had satisfactory experiences, others found them average or lacking. \n",
    "\n",
    "><p style=\"line-height: 1.5; font-size: 18px;\"> Common bigrams such as \"exceeded expectation\" and \"product exceeded\" suggest that some products did surpass customer expectations, but phrases like \"arrived damaged,\" \"return process hassle,\" \"delivery slow,\" and \"product okay\" point to frequent issues with product conditions and delivery speed. Additionally, words like \"average,\" \"poor,\" \"build quality,\" and \"worth price\" indicate that the quality and value of products were often perceived as mediocre.\n",
    "\n",
    "><p style=\"line-height: 1.5; font-size: 18px;\"> Overall, the neutral reviews reflect a mix of satisfactory experiences and notable shortcomings, particularly concerning product quality and delivery efficiency.</p>"
   ]
  },
  {
   "cell_type": "code",
   "execution_count": null,
   "id": "acbae49e",
   "metadata": {},
   "outputs": [],
   "source": []
  },
  {
   "cell_type": "markdown",
   "id": "f0d70b9d",
   "metadata": {},
   "source": [
    "<left><h1 style=\"color:blue; font-size:10;\"> Visualize Key Findings </h1></left>  \n",
    " "
   ]
  },
  {
   "cell_type": "code",
   "execution_count": 7,
   "id": "83dae477",
   "metadata": {},
   "outputs": [
    {
     "data": {
      "image/png": "[encoded data removed]",
      "text/plain": [
       "<Figure size 864x576 with 1 Axes>"
      ]
     },
     "metadata": {
      "needs_background": "light"
     },
     "output_type": "display_data"
    }
   ],
   "source": [
    "# Sentiment distribution by product category\n",
    "plt.figure(figsize=(12, 8))\n",
    "sns.countplot(x='category', hue='sentiment_category', data=df)\n",
    "plt.title('Sentiment Distribution by Product Category')\n",
    "plt.xlabel('Product Category')\n",
    "plt.ylabel('Count')\n",
    "plt.xticks(rotation=45)\n",
    "plt.legend(title='Sentiment')\n",
    "plt.show()"
   ]
  },
  {
   "cell_type": "markdown",
   "id": "01122d3c-ac0a-426d-bac8-bf0ea1119761",
   "metadata": {},
   "source": [
    "><p style=\"line-height: 1.5; font-size: 18px;\"> The graph illustrates the sentiment distribution of customer reviews across different product categories, including Sports, Books, Electronics, Home & Kitchen, and Clothing. Each bar represents the count of reviews categorized as negative, neutral, or positive.</p>\n",
    "\n",
    "### Sports: \n",
    "><p style=\"line-height: 1.5; font-size: 18px;\">  The sentiment is fairly balanced, with a slight majority of positive reviews followed by a considerable number of neutral and some negative reviews. This indicates that while many customers are satisfied with sports products, a notable portion finds them average or has had negative experiences.</p>\n",
    "\n",
    "### Books:\n",
    "><p style=\"line-height: 1.5; font-size: 18px;\">  Books have a higher count of positive reviews compared to neutral and negative reviews, though there is a significant number of neutral reviews. This suggests that while the majority of customers are happy with book purchases, many also find them satisfactory without being particularly impressed.</p>\n",
    "\n",
    "### Electronics:\n",
    "><p style=\"line-height: 1.5; font-size: 18px;\">  font-size:Electronics stand out with the highest number of positive reviews, significantly more than neutral and negative reviews. This indicates a strong customer satisfaction in the electronics category, with relatively fewer complaints or average experiences.</p>\n",
    "\n",
    "### Home & Kitchen:\n",
    "\n",
    "><p style=\"line-height: 1.5; font-size: 18px;\">  font-size:Reviews for Home & Kitchen products are predominantly positive, with a notable number of neutral reviews and some negative reviews. This implies that while many customers are pleased with these products, there is room for improvement as indicated by the neutral and negative feedback.</p>\n",
    "\n",
    "### Clothing:\n",
    "\n",
    "><p style=\"line-height: 1.5; font-size: 18px;\">  font-size: The Clothing category shows a majority of positive reviews, followed by a considerable number of neutral reviews and a smaller number of negative reviews. This suggests that customers are generally satisfied with clothing products, though a notable portion finds them merely adequate.</p>\n",
    "\n",
    "## Interpretation:\n",
    "><p style=\"line-height: 1.5; font-size: 18px;\">  font-size: The graph indicates that the majority of customer reviews across all categories are positive, suggesting a general satisfaction with the products. Electronics, in particular, have a strong positive sentiment. However, the presence of neutral reviews in all categories highlights areas where customer experiences could be enhanced. Negative reviews, although fewer, indicate specific issues that need to be addressed to improve overall customer satisfaction. By focusing on reducing neutral and negative feedback, the e-commerce platform can further enhance the customer experience across all product categories </p>"
   ]
  },
  {
   "cell_type": "markdown",
   "id": "8e210af7-f996-45b5-979a-8cee1a5152dd",
   "metadata": {},
   "source": [
    "><p style=\"line-height: 1.5; font-size: The graph illustrates the sentiment distribution of customer reviews across different product categories, including Sports, Books, Electronics, Home and Kitchen, and Clothing. Each bar represents the count of reviews categorized as negative, neutral, or positive.</p>\n",
    "\n",
    "### Sports: \n",
    "><p style=\"line-height: 1.5; font-size: The sentiment is fairly balanced, with a slight majority of positive reviews followed by a considerable number of neutral and some negative reviews. This indicates that while many customers are satisfied with sports products, a notable portion finds them average or has had negative experiences.</p>"
   ]
  },
  {
   "cell_type": "code",
   "execution_count": 8,
   "id": "010a2125",
   "metadata": {},
   "outputs": [
    {
     "data": {
      "image/png": "[encoded data removed]",
      "text/plain": [
       "<Figure size 864x576 with 1 Axes>"
      ]
     },
     "metadata": {
      "needs_background": "light"
     },
     "output_type": "display_data"
    }
   ],
   "source": [
    "# Sentiment distribution by customer age group\n",
    "df['age_group'] = pd.cut(df['customer_age'], bins=[18, 30, 40, 50, 60, 70], labels=['18-30', '31-40', '41-50', '51-60', '61-70'])\n",
    "plt.figure(figsize=(12, 8))\n",
    "sns.countplot(x='age_group', hue='sentiment_category', data=df)\n",
    "plt.title('Sentiment Distribution by Customer Age Group')\n",
    "plt.xlabel('Age Group')\n",
    "plt.ylabel('Count')\n",
    "plt.legend(title='Sentiment')\n",
    "plt.show()"
   ]
  },
  {
   "cell_type": "markdown",
   "id": "b76fe9a9",
   "metadata": {},
   "source": [
    "><p style=\"line-height: 1.5; font-size: 18px;\"> The graph displays the sentiment distribution of customer reviews across different age groups, categorized into negative, neutral, and positive sentiments.</p>\n",
    "\n",
    "#### 18-30 Age Group:\n",
    "\n",
    "><p style=\"line-height: 1.5; font-size: 18px;\"> This group has a significant number of positive reviews, followed by neutral reviews and a smaller number of negative reviews. This suggests that younger customers are generally satisfied with their purchases, although there is a noticeable portion that feels neutral or slightly dissatisfied. </p>\n",
    "\n",
    "#### 31-40 Age Group:\n",
    "\n",
    "><p style=\"line-height: 1.5; font-size: 18px;\"> Similar to the 18-30 group, the majority of reviews are positive, with a substantial number of neutral reviews and fewer negative reviews. This indicates that middle-aged customers also have a favorable view of their purchases, though some experiences were just average. </p>\n",
    "\n",
    "#### 41-50 Age Group:\n",
    "\n",
    "><p style=\"line-height: 1.5; font-size: 18px;\"> The distribution shows a predominance of positive reviews, with a moderate amount of neutral reviews and fewer negative reviews. This suggests that customers in this age group are generally pleased with their experiences, but there are some who felt the products were just satisfactory. </p>\n",
    "\n",
    "#### 51-60 Age Group:\n",
    "\n",
    "><p style=\"line-height: 1.5; font-size: 18px;\"> There is a higher proportion of neutral reviews compared to younger age groups, with positive reviews being the majority and a small number of negative reviews. This indicates that older customers in this group may have more average experiences, though they generally still find the products satisfactory.</p>\n",
    "\n",
    "#### 61-70 Age Group:\n",
    "\n",
    "><p style=\"line-height: 1.5; font-size: 18px;\"> Positive reviews are still the majority, but there is a noticeable proportion of neutral reviews and a few negative reviews. This suggests that older customers have mixed experiences, with a tendency towards being satisfied but also a considerable number finding their experiences just okay or disappointing.</p>\n",
    "\n",
    "#### Interpretation:\n",
    "\n",
    "><p style=\"line-height: 1.5; font-size: 18px;\"> Across all age groups, positive sentiment is consistently the most prevalent, indicating general customer satisfaction. However, the presence of a significant number of neutral reviews, especially in the older age groups, suggests that these customers may have found their experiences to be average or not particularly remarkable. The lower number of negative reviews across all groups indicates relatively few highly negative experiences, but addressing the factors contributing to neutral reviews could further enhance customer satisfaction. This analysis highlights the importance of understanding the nuances in customer satisfaction across different age groups to tailor product offerings and services more effectively.</p>"
   ]
  },
  {
   "cell_type": "code",
   "execution_count": null,
   "id": "976dd30f",
   "metadata": {},
   "outputs": [],
   "source": []
  },
  {
   "cell_type": "code",
   "execution_count": 9,
   "id": "e0a31d4f",
   "metadata": {},
   "outputs": [
    {
     "data": {
      "image/png": "[encoded data removed]",
      "text/plain": [
       "<Figure size 720x432 with 1 Axes>"
      ]
     },
     "metadata": {
      "needs_background": "light"
     },
     "output_type": "display_data"
    }
   ],
   "source": [
    "\n",
    "# Sentiment distribution by gender\n",
    "plt.figure(figsize=(10, 6))\n",
    "sns.countplot(x='customer_gender', hue='sentiment_category', data=df)\n",
    "plt.title('Sentiment Distribution by Gender')\n",
    "plt.xlabel('Gender')\n",
    "plt.ylabel('Count')\n",
    "plt.legend(title='Sentiment')\n",
    "plt.show()"
   ]
  },
  {
   "cell_type": "markdown",
   "id": "89b90a57",
   "metadata": {},
   "source": [
    "><p style=\"line-height: 1.5; font-size: 18px;\"> The graph shows the sentiment distribution of customer reviews by gender, categorized into negative, neutral, and positive sentiments.\n",
    "#### Male Customers:\n",
    "><p style=\"line-height: 1.5; font-size: 18px;\">- Positive Reviews: Male customers have a majority of positive reviews, indicating high satisfaction with their purchases.\n",
    "><p style=\"line-height: 1.5; font-size: 18px;\">- Neutral Reviews: There is a notable proportion of neutral reviews, suggesting that a significant number of male customers find their experiences just average.\n",
    "><p style=\"line-height: 1.5; font-size: 18px;\">- Negative Reviews: There are fewer negative reviews compared to positive and neutral reviews, but they are still present, indicating some level of dissatisfaction. </p>\n",
    "\n",
    "#### Female Customers:\n",
    "><p style=\"line-height: 1.5; font-size: 18px;\">- Positive Reviews: Female customers also have a majority of positive reviews, similar to male customers, showing general satisfaction.\n",
    "><p style=\"line-height: 1.5; font-size: 18px;\">- Neutral Reviews: There is a substantial number of neutral reviews among female customers, more than those observed for male customers, indicating many find their experiences satisfactory but not exceptional.\n",
    "><p style=\"line-height: 1.5; font-size: 18px;\">- Negative Reviews: There are fewer negative reviews, with a slightly smaller proportion compared to male customers, but still indicating some dissatisfaction.</p>\n",
    "\n",
    "#### Interpretation:\n",
    "><p style=\"line-height: 1.5; font-size: 18px;\"> Overall, both male and female customers predominantly have positive sentiments towards their purchases, suggesting general satisfaction with the products and services. However, the presence of a considerable number of neutral reviews in both genders highlights areas where the customer experience could be improved. The lower number of negative reviews across both genders suggests relatively few highly negative experiences. Addressing the factors contributing to neutral reviews can further enhance customer satisfaction for both male and female customers. This analysis emphasizes the need to understand the nuances in customer feedback across different genders to tailor product offerings and services more effectively.</p>"
   ]
  },
  {
   "cell_type": "markdown",
   "id": "32ba0238",
   "metadata": {},
   "source": [
    "<left><h1 style=\"color:blue; font-size:10;\"> Conclusion </h1></left>\n",
    "\n",
    "><p style=\"line-height: 1.5; font-size: 18px;\"> Based on the analysis, we can conclude that customer satisfaction on the e-commerce platform is generally high, with most reviews being positive across all product categories and demographic segments. Key themes driving positive sentiment include high product quality, fast shipping, and excellent customer service. Neutral reviews highlight areas for improvement, such as making the experience more remarkable and addressing average product quality. Negative reviews, though fewer, emphasize the importance of maintaining high standards for product quality and delivery efficiency. Understanding these trends and themes can help the e-commerce platform target specific areas for improvement and enhance overall customer satisfaction.</p>"
   ]
  },
  {
   "cell_type": "code",
   "execution_count": null,
   "id": "4dc1cf61",
   "metadata": {},
   "outputs": [],
   "source": []
  },
  {
   "cell_type": "markdown",
   "id": "4b1c26a8",
   "metadata": {},
   "source": [
    "<left><h1 style=\"color:blue; font-size:10;\"> Further analysis </h1></left>"
   ]
  },
  {
   "cell_type": "markdown",
   "id": "57694486",
   "metadata": {},
   "source": [
    "### Correlation Analysis\n",
    "#### Product Ratings vs. Sentiment"
   ]
  },
  {
   "cell_type": "code",
   "execution_count": 30,
   "id": "30fe6991",
   "metadata": {},
   "outputs": [
    {
     "name": "stdout",
     "output_type": "stream",
     "text": [
      "0\n",
      "8\n"
     ]
    }
   ],
   "source": [
    "# Check for NaN values in the 'rating' and 'sentiment_numeric' columns\n",
    "print(df['rating'].isnull().sum())\n",
    "print(df['sentiment_numeric'].isnull().sum())\n"
   ]
  },
  {
   "cell_type": "code",
   "execution_count": 31,
   "id": "9606b77a",
   "metadata": {},
   "outputs": [
    {
     "name": "stdout",
     "output_type": "stream",
     "text": [
      "0\n",
      "0\n"
     ]
    }
   ],
   "source": [
    "# Drop rows with NaN values in 'rating' or 'sentiment_numeric'\n",
    "df_cleaned = df.dropna(subset=['rating', 'sentiment_numeric'])\n",
    "\n",
    "# Verify that there are no NaN values left\n",
    "print(df_cleaned['rating'].isnull().sum())\n",
    "print(df_cleaned['sentiment_numeric'].isnull().sum())\n"
   ]
  },
  {
   "cell_type": "code",
   "execution_count": 32,
   "id": "b4f9a1a0",
   "metadata": {},
   "outputs": [
    {
     "name": "stdout",
     "output_type": "stream",
     "text": [
      "Correlation between product ratings and sentiment: 0.11 (p-value: 1.61e-01)\n"
     ]
    }
   ],
   "source": [
    "import scipy.stats as stats\n",
    "\n",
    "# Calculate the correlation between ratings and sentiment\n",
    "correlation, p_value = stats.pearsonr(df_cleaned['rating'], df_cleaned['sentiment_numeric'])\n",
    "print(f\"Correlation between product ratings and sentiment: {correlation:.2f} (p-value: {p_value:.2e})\")\n"
   ]
  },
  {
   "cell_type": "markdown",
   "id": "873ed926",
   "metadata": {},
   "source": [
    "><p style=\"line-height: 1.5; font-size: 18px;\"> The correlation between product ratings and sentiment is 0.11, with a p-value of 0.161. This indicates a weak positive correlation between product ratings and sentiment, suggesting that as product ratings increase, sentiment scores (which range from negative to positive) tend to increase slightly as well. However, the p-value of 0.161 is greater than the common significance level of 0.05, indicating that this correlation is not statistically significant. Therefore, we cannot confidently assert that there is a meaningful relationship between product ratings and sentiment based on this data. This suggests that factors other than just the numerical product rating might be influencing the sentiment expressed in the reviews.</p>"
   ]
  },
  {
   "cell_type": "markdown",
   "id": "a89218d6",
   "metadata": {},
   "source": [
    "#### Purchase Amount vs. Sentiment"
   ]
  },
  {
   "cell_type": "code",
   "execution_count": 33,
   "id": "e790c34d",
   "metadata": {},
   "outputs": [
    {
     "name": "stdout",
     "output_type": "stream",
     "text": [
      "Correlation between purchase amount and sentiment: -0.12 (p-value: 1.12e-01)\n"
     ]
    }
   ],
   "source": [
    "# Calculate the correlation between purchase amount and sentiment\n",
    "correlation_amount, p_value_amount = stats.pearsonr(df_cleaned['purchase_amount'], df_cleaned['sentiment_numeric'])\n",
    "print(f\"Correlation between purchase amount and sentiment: {correlation_amount:.2f} (p-value: {p_value_amount:.2e})\")\n"
   ]
  },
  {
   "cell_type": "markdown",
   "id": "b578ebba",
   "metadata": {},
   "source": [
    "><p style=\"line-height: 1.5; font-size: 18px;\"> The output indicates a weak negative correlation between purchase amount and sentiment, with a correlation coefficient of -0.12. This suggests that as the purchase amount increases, there is a slight tendency for the sentiment to become less positive or more negative, but this relationship is not strong. The p-value of 0.112 (1.12e-01) is above the common significance threshold of 0.05, meaning that this correlation is not statistically significant. Therefore, we cannot confidently assert that purchase amount has a meaningful impact on customer sentiment based on this analysis. This implies that other factors might be more influential in determining customer sentiment, and further investigation into different aspects of the customer experience may be necessary.</p>"
   ]
  },
  {
   "cell_type": "markdown",
   "id": "fbde936a",
   "metadata": {},
   "source": [
    "<left><h1 style=\"color:blue; font-size:10;\"> Predictive Modeling </h1></left>\n",
    "\n",
    "\n",
    "#### Sentiment Prediction"
   ]
  },
  {
   "cell_type": "code",
   "execution_count": 35,
   "id": "db07447d",
   "metadata": {},
   "outputs": [
    {
     "name": "stdout",
     "output_type": "stream",
     "text": [
      "8\n"
     ]
    }
   ],
   "source": [
    "# Check for NaN values in y_train\n",
    "print(y_train.isnull().sum())\n"
   ]
  },
  {
   "cell_type": "code",
   "execution_count": 36,
   "id": "4bd70755",
   "metadata": {},
   "outputs": [],
   "source": [
    "# Drop rows with NaN values in y_train\n",
    "train_data = pd.concat([X_train, y_train], axis=1)\n",
    "train_data = train_data.dropna(subset=[y_train.name])\n",
    "\n",
    "# Separate features and target after dropping NaNs\n",
    "X_train_cleaned = train_data[X_train.name]\n",
    "y_train_cleaned = train_data[y_train.name]\n"
   ]
  },
  {
   "cell_type": "code",
   "execution_count": 39,
   "id": "848209ad",
   "metadata": {},
   "outputs": [],
   "source": [
    "import pandas as pd\n",
    "from sklearn.model_selection import train_test_split\n",
    "from sklearn.feature_extraction.text import TfidfVectorizer\n",
    "from sklearn.linear_model import LogisticRegression\n",
    "from sklearn.metrics import classification_report\n",
    "\n"
   ]
  },
  {
   "cell_type": "code",
   "execution_count": 41,
   "id": "c5987680",
   "metadata": {},
   "outputs": [
    {
     "name": "stdout",
     "output_type": "stream",
     "text": [
      "Index(['review_id', 'review_text', 'customer_age', 'customer_location',\n",
      "       'customer_gender', 'purchase_amount', 'purchase_date', 'rating',\n",
      "       'category', 'review_length', 'sentiment'],\n",
      "      dtype='object')\n",
      "NaNs in 'sentiment_numeric': 0\n",
      "              precision    recall  f1-score   support\n",
      "\n",
      "          -1       0.41      0.47      0.44        19\n",
      "           0       0.40      0.24      0.30        17\n",
      "           1       0.52      0.65      0.58        17\n",
      "\n",
      "    accuracy                           0.45        53\n",
      "   macro avg       0.44      0.45      0.44        53\n",
      "weighted avg       0.44      0.45      0.44        53\n",
      "\n"
     ]
    }
   ],
   "source": [
    "import pandas as pd\n",
    "from sklearn.model_selection import train_test_split\n",
    "from sklearn.feature_extraction.text import TfidfVectorizer\n",
    "from sklearn.linear_model import LogisticRegression\n",
    "from sklearn.metrics import classification_report\n",
    "\n",
    "# Load your data\n",
    "file_path = r'C:\\Users\\Owner\\OneDrive\\Desktop\\customer_reviews_Data\\customer_reviews.csv'\n",
    "df = pd.read_csv(file_path)\n",
    "\n",
    "# Check the columns to confirm the correct names\n",
    "print(df.columns)\n",
    "\n",
    "# Map sentiment categories to numeric values for modeling\n",
    "sentiment_mapping = {'negative': -1, 'neutral': 0, 'positive': 1}\n",
    "df['sentiment_numeric'] = df['sentiment'].map(sentiment_mapping)\n",
    "\n",
    "# Check for NaN values in 'sentiment_numeric'\n",
    "print(f\"NaNs in 'sentiment_numeric': {df['sentiment_numeric'].isnull().sum()}\")\n",
    "\n",
    "# Drop rows with NaN values in 'sentiment_numeric'\n",
    "df_cleaned = df.dropna(subset=['sentiment_numeric'])\n",
    "\n",
    "# Prepare data for modeling\n",
    "X = df_cleaned['review_text']  # Assuming 'review_text' is the column with the raw text\n",
    "y = df_cleaned['sentiment_numeric']\n",
    "\n",
    "# Split data into training and testing sets\n",
    "X_train, X_test, y_train, y_test = train_test_split(X, y, test_size=0.3, random_state=42)\n",
    "\n",
    "# Vectorize text data\n",
    "vectorizer = TfidfVectorizer()\n",
    "X_train_tfidf = vectorizer.fit_transform(X_train)\n",
    "X_test_tfidf = vectorizer.transform(X_test)\n",
    "\n",
    "# Train a logistic regression model\n",
    "model = LogisticRegression()\n",
    "model.fit(X_train_tfidf, y_train)\n",
    "\n",
    "# Predict sentiment on the test set\n",
    "y_pred = model.predict(X_test_tfidf)\n",
    "\n",
    "# Evaluate the model\n",
    "print(classification_report(y_test, y_pred))\n",
    "\n"
   ]
  },
  {
   "cell_type": "markdown",
   "id": "72d0548f",
   "metadata": {},
   "source": [
    "<left><h1 style=\"color:blue; font-size:10;\"> Customer Satisfaction Score </h1></left>\n",
    "\n",
    "\n",
    "#### Creating a Composite Score"
   ]
  },
  {
   "cell_type": "code",
   "execution_count": 42,
   "id": "baf03a0b",
   "metadata": {},
   "outputs": [
    {
     "name": "stdout",
     "output_type": "stream",
     "text": [
      "count    175.000000\n",
      "mean       3.211429\n",
      "std        2.355206\n",
      "min       -1.000000\n",
      "25%        1.000000\n",
      "50%        3.000000\n",
      "75%        5.000000\n",
      "max        7.000000\n",
      "Name: satisfaction_score, dtype: float64\n"
     ]
    }
   ],
   "source": [
    "# Define a function to calculate the satisfaction score\n",
    "def calculate_satisfaction_score(row):\n",
    "    score = row['rating'] + row['sentiment_numeric'] * 2  # Adjust weights as necessary\n",
    "    return score\n",
    "\n",
    "# Apply the function to the DataFrame\n",
    "df['satisfaction_score'] = df.apply(calculate_satisfaction_score, axis=1)\n",
    "\n",
    "# Summary statistics of the satisfaction score\n",
    "print(df['satisfaction_score'].describe())\n"
   ]
  },
  {
   "cell_type": "markdown",
   "id": "b06b4373",
   "metadata": {},
   "source": [
    "><p style=\"line-height: 1.5; font-size: 18px;\"> The descriptive statistics for the satisfaction_score indicate a wide range of customer satisfaction levels. The mean score of 3.21 suggests that, on average, customer satisfaction is moderate. However, the high standard deviation of 2.36 points to significant variability in how customers perceive their experiences. The minimum score of -1 and the maximum score of 7 highlight the extreme ends of customer sentiment, from very negative to very positive. The quartile values show that while a portion of customers had low satisfaction (with the bottom 25% scoring 1 or lower), a significant number of customers had high satisfaction (with the top 25% scoring 5 or higher). This distribution suggests that while many customers are satisfied, there is still a considerable number of customers with neutral or negative experiences, indicating areas where improvements could be made to enhance overall satisfaction."
   ]
  },
  {
   "cell_type": "code",
   "execution_count": null,
   "id": "cd8b8353",
   "metadata": {},
   "outputs": [],
   "source": []
  },
  {
   "cell_type": "code",
   "execution_count": null,
   "id": "c82ee795-5687-4e4a-a172-4e0c99f778f7",
   "metadata": {},
   "outputs": [],
   "source": []
  }
 ],
 "metadata": {
  "kernelspec": {
   "display_name": "Python 3 (ipykernel)",
   "language": "python",
   "name": "python3"
  },
  "language_info": {
   "codemirror_mode": {
    "name": "ipython",
    "version": 3
   },
   "file_extension": ".py",
   "mimetype": "text/x-python",
   "name": "python",
   "nbconvert_exporter": "python",
   "pygments_lexer": "ipython3",
   "version": "3.8.8"
  }
 },
 "nbformat": 4,
 "nbformat_minor": 5
}
